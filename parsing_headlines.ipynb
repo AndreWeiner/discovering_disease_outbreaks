{
 "cells": [
  {
   "cell_type": "markdown",
   "metadata": {},
   "source": [
    "# Parsing the News Headlines\n",
    "## Importing libraries and loading the headlines"
   ]
  },
  {
   "cell_type": "code",
   "execution_count": 7,
   "metadata": {},
   "outputs": [],
   "source": [
    "import pandas as pd\n",
    "import random as rand"
   ]
  },
  {
   "cell_type": "code",
   "execution_count": 27,
   "metadata": {},
   "outputs": [
    {
     "data": {
      "text/plain": [
       "['Zika Outbreak Hits Miami\\n',\n",
       " 'Outbreak of Zika in Alvorada\\n',\n",
       " 'Zika spreads to Kamphaeng Phet\\n',\n",
       " 'Zika arrives in Orange City\\n',\n",
       " 'First Columbus Zika case\\n',\n",
       " 'How to Avoid Gonorrhea in Shreveport\\n',\n",
       " 'HIV Symptoms Spread all over Hinthada\\n',\n",
       " 'Zika symptoms spotted in Quixere\\n',\n",
       " 'Tuberculosis Outbreak in Hartford\\n',\n",
       " 'Zika symptoms spotted in Colombo\\n']"
      ]
     },
     "execution_count": 27,
     "metadata": {},
     "output_type": "execute_result"
    }
   ],
   "source": [
    "file_name = \"./headlines.txt\"\n",
    "with open(file_name, 'r') as file:\n",
    "    headlines = file.readlines()\n",
    "    \n",
    "# sample randomly 10 headlines\n",
    "rand.sample(headlines, 10)"
   ]
  },
  {
   "cell_type": "markdown",
   "metadata": {},
   "source": [
    "## Extract city/country names"
   ]
  },
  {
   "cell_type": "code",
   "execution_count": null,
   "metadata": {},
   "outputs": [],
   "source": []
  },
  {
   "cell_type": "markdown",
   "metadata": {},
   "source": [
    "## Exporting the data as a DataFrame"
   ]
  },
  {
   "cell_type": "code",
   "execution_count": null,
   "metadata": {},
   "outputs": [],
   "source": []
  }
 ],
 "metadata": {
  "kernelspec": {
   "display_name": "Python 3",
   "language": "python",
   "name": "python3"
  },
  "language_info": {
   "codemirror_mode": {
    "name": "ipython",
    "version": 3
   },
   "file_extension": ".py",
   "mimetype": "text/x-python",
   "name": "python",
   "nbconvert_exporter": "python",
   "pygments_lexer": "ipython3",
   "version": "3.7.3"
  }
 },
 "nbformat": 4,
 "nbformat_minor": 2
}
